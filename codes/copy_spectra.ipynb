{
 "cells": [
  {
   "cell_type": "code",
   "execution_count": 6,
   "metadata": {},
   "outputs": [],
   "source": [
    "from cogent3.util.deserialise import deserialise_object\n",
    "from itertools import combinations"
   ]
  },
  {
   "cell_type": "code",
   "execution_count": 2,
   "metadata": {},
   "outputs": [],
   "source": [
    "diseases = deserialise_object('/Users/phuongle/Documents/repos/PhuongData/loop2_processed/loop2.json')['diseases']"
   ]
  },
  {
   "cell_type": "code",
   "execution_count": 4,
   "metadata": {},
   "outputs": [],
   "source": [
    "path_out = '/Users/phuongle/Documents/repos/honours_thesis/graphics'\n",
    "for disease in diseases:\n",
    "    path = f'/Users/phuongle/Documents/repos/PhuongAnalysis/results/loop2/sce/spectrum/{disease}/spectra.pdf'\n",
    "    path_out_file = f'{path_out}/spectra.pdf'\n",
    "    path_out_file_correct = f'{path_out}/spectra_{disease}.pdf'\n",
    "    ! cp $path $path_out\n",
    "    ! mv $path_out_file $path_out_file_correct"
   ]
  },
  {
   "cell_type": "markdown",
   "metadata": {},
   "source": [
    "pairwise spectrum"
   ]
  },
  {
   "cell_type": "code",
   "execution_count": 5,
   "metadata": {},
   "outputs": [],
   "source": [
    "path_out = '/Users/phuongle/Documents/repos/honours_thesis/graphics'\n",
    "diseases = ['Liver-HCC','Skin-Melanoma']\n",
    "for disease in diseases:\n",
    "    path = f'/Users/phuongle/Documents/repos/PhuongAnalysis/results/loop2/sce/pairwise_spectrum/Kidney-RCC_{disease}/spectra.pdf'\n",
    "    path_out_file = f'{path_out}/spectra.pdf'\n",
    "    path_out_file_correct = f'{path_out}/spectra_Kidney-RCC_{disease}.pdf'\n",
    "    ! cp $path $path_out\n",
    "    ! mv $path_out_file $path_out_file_correct"
   ]
  },
  {
   "cell_type": "code",
   "execution_count": 7,
   "metadata": {},
   "outputs": [],
   "source": [
    "path_out = '/Users/phuongle/Documents/repos/honours_thesis/graphics'\n",
    "diseases = ['CNS-Medullo','CNS-PiloAstro','Lymph-CLL','Lymph-BNHL']\n",
    "for pairs in combinations(diseases,2):\n",
    "    disease1, disease2 = sorted(pairs)\n",
    "    path = f'/Users/phuongle/Documents/repos/PhuongAnalysis/results/loop2/sce/pairwise_spectrum/{disease1}_{disease2}/spectra.pdf'\n",
    "    path_out_file = f'{path_out}/spectra.pdf'\n",
    "    path_out_file_correct = f'{path_out}/spectra_{disease1}_{disease2}.pdf'\n",
    "    ! cp $path $path_out\n",
    "    ! mv $path_out_file $path_out_file_correct"
   ]
  },
  {
   "cell_type": "code",
   "execution_count": null,
   "metadata": {},
   "outputs": [],
   "source": []
  }
 ],
 "metadata": {
  "interpreter": {
   "hash": "6b2f2ca2ca0de2cf665f6b1b3f7b52302b92c83014061969f3194020533072a1"
  },
  "kernelspec": {
   "display_name": "Python 3.8.6 64-bit ('c38-dev': conda)",
   "name": "python3"
  },
  "language_info": {
   "codemirror_mode": {
    "name": "ipython",
    "version": 3
   },
   "file_extension": ".py",
   "mimetype": "text/x-python",
   "name": "python",
   "nbconvert_exporter": "python",
   "pygments_lexer": "ipython3",
   "version": "3.8.6"
  },
  "orig_nbformat": 4
 },
 "nbformat": 4,
 "nbformat_minor": 2
}
