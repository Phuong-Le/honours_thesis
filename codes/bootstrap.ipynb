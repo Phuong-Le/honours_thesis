{
 "cells": [
  {
   "cell_type": "code",
   "execution_count": 2,
   "metadata": {},
   "outputs": [],
   "source": [
    "from cogent3.util.deserialise import deserialise_object\n",
    "from cogent3.evolve.distance import DistanceMatrix"
   ]
  },
  {
   "cell_type": "code",
   "execution_count": 10,
   "metadata": {},
   "outputs": [],
   "source": [
    "for representation in ['smooth', 'bins']:\n",
    "    for distance in ['euclidean','wasserstein']:\n",
    "        path = f'/Users/phuongle/Documents/repos/PhuongAnalysis/results/loop2/gle/pairwise_aggregated/bootstrap/bootstrap_gle_loop_{representation}_{distance}.json'\n",
    "        bootstrap = dict(deserialise_object(path))\n",
    "        bootstrap = DistanceMatrix(bootstrap).to_table()\n",
    "        out = f'/Users/phuongle/Documents/repos/PhuongAnalysis/results/loop2/gle/pairwise_aggregated/bootstrap/bootstrap_gle_loop_{representation}_{distance}.tsv'\n",
    "        bootstrap.write(out)"
   ]
  },
  {
   "cell_type": "code",
   "execution_count": null,
   "metadata": {},
   "outputs": [],
   "source": []
  }
 ],
 "metadata": {
  "interpreter": {
   "hash": "6b2f2ca2ca0de2cf665f6b1b3f7b52302b92c83014061969f3194020533072a1"
  },
  "kernelspec": {
   "display_name": "Python 3.8.6 64-bit ('c38-dev': conda)",
   "name": "python3"
  },
  "language_info": {
   "codemirror_mode": {
    "name": "ipython",
    "version": 3
   },
   "file_extension": ".py",
   "mimetype": "text/x-python",
   "name": "python",
   "nbconvert_exporter": "python",
   "pygments_lexer": "ipython3",
   "version": "3.8.6"
  },
  "orig_nbformat": 4
 },
 "nbformat": 4,
 "nbformat_minor": 2
}
