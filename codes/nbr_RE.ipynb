{
 "cells": [
  {
   "cell_type": "code",
   "execution_count": 2,
   "metadata": {},
   "outputs": [],
   "source": [
    "from cogent3.util.deserialise import deserialise_object\n",
    "from pathlib import Path\n",
    "from itertools import permutations\n",
    "from cogent3 import make_table"
   ]
  },
  {
   "cell_type": "code",
   "execution_count": 3,
   "metadata": {},
   "outputs": [],
   "source": [
    "diseases = deserialise_object('/Users/phuongle/Documents/repos/PhuongData/loop2_processed/loop2.json')['diseases']\n",
    "bases = 'ACGT'\n",
    "directions = [f'{base1}to{base2}' for base1, base2 in permutations(bases,2)]"
   ]
  },
  {
   "cell_type": "code",
   "execution_count": 15,
   "metadata": {},
   "outputs": [],
   "source": [
    "results = []\n",
    "for disease in diseases:\n",
    "    for direction in directions:\n",
    "        path = f'/Users/phuongle/Documents/repos/PhuongAnalysis/results/loop2/sce/nbr/5mer/{disease}/{direction}/1.json'\n",
    "        if not Path(path).exists():\n",
    "            continue\n",
    "        result = deserialise_object(path)\n",
    "        for i in range(4):\n",
    "            pos = f'pos{i}'\n",
    "            re = result[pos]['rel_entropy']\n",
    "            display_pos = f'pos-{2-i}' if i<2 else f'pos{i-1}'\n",
    "            results.append([disease,direction,display_pos,re])"
   ]
  },
  {
   "cell_type": "code",
   "execution_count": 16,
   "metadata": {},
   "outputs": [
    {
     "data": {
      "text/html": [
       "\n",
       "<div class=\"c3table\">\n",
       "\n",
       "<style>\n",
       ".c3table table {margin: 10px 0;}\n",
       ".c3table tr:last-child {border-bottom: 1px solid #000;} \n",
       ".c3table tr > th {text-align: left; padding: 0 5px;}\n",
       ".c3table tr > td {text-align: left; padding: 5px;}\n",
       ".c3table tr:nth-child(even) {background: rgb(0, 0, 0, 0.5) !important;}\n",
       ".c3table .ellipsis {background: rgba(0, 0, 0, .01);}\n",
       ".c3table .index {background: rgba(161, 195, 209, 0.0); margin: 10px; font-weight: 600;}\n",
       ".c3table .head_cell {background: rgba(161, 195, 209, 0.75); font-weight: bold; text-align: center;}\n",
       ".c3table caption {color: rgb(250, 250, 250); background: rgba(30, 140, 200, 1); padding: 3px; white-space: nowrap; caption-side: top;}\n",
       ".c3table .cell_title {font-weight: bold;}\n",
       ".c3col_left { text-align: left !important; display: block;}\n",
       ".c3col_right { text-align: right !important; display: block;}\n",
       ".c3col_center { text-align: center !important; display: block;}\n",
       "</style>\n",
       "\n",
       "<table>\n",
       "\n",
       "<thead class=\"head_cell\">\n",
       "<th>disease</th><th>direction</th><th>pos</th><th>RE</th>\n",
       "</thead>\n",
       "<tbody>\n",
       "<tr><td><span class=\"c3col_left\">Bone-Osteosarc</span></td><td><span class=\"c3col_left\">AtoC</span></td><td><span class=\"c3col_left\">pos-2</span></td><td><span class=\"c3col_right\">0.0029</span></td></tr>\n",
       "<tr><td><span class=\"c3col_left\">Bone-Osteosarc</span></td><td><span class=\"c3col_left\">AtoC</span></td><td><span class=\"c3col_left\">pos-1</span></td><td><span class=\"c3col_right\">0.0153</span></td></tr>\n",
       "<tr><td><span class=\"c3col_left\">Bone-Osteosarc</span></td><td><span class=\"c3col_left\">AtoC</span></td><td><span class=\"c3col_left\">pos1</span></td><td><span class=\"c3col_right\">0.0067</span></td></tr>\n",
       "<tr><td><span class=\"c3col_left\">Bone-Osteosarc</span></td><td><span class=\"c3col_left\">AtoC</span></td><td><span class=\"c3col_left\">pos2</span></td><td><span class=\"c3col_right\">0.0056</span></td></tr>\n",
       "<tr><td><span class=\"c3col_left\">Bone-Osteosarc</span></td><td><span class=\"c3col_left\">AtoG</span></td><td><span class=\"c3col_left\">pos-2</span></td><td><span class=\"c3col_right\">0.0009</span></td></tr>\n",
       "<tr class=\"ellipsis\"><td><span class=\"c3col_left\">...</span></td><td><span class=\"c3col_left\">...</span></td><td><span class=\"c3col_left\">...</span></td><td><span class=\"c3col_right\">...</span></td></tr>\n",
       "<tr><td><span class=\"c3col_left\">Skin-Melanoma</span></td><td><span class=\"c3col_left\">TtoC</span></td><td><span class=\"c3col_left\">pos2</span></td><td><span class=\"c3col_right\">0.0028</span></td></tr>\n",
       "<tr><td><span class=\"c3col_left\">Skin-Melanoma</span></td><td><span class=\"c3col_left\">TtoG</span></td><td><span class=\"c3col_left\">pos-2</span></td><td><span class=\"c3col_right\">0.0008</span></td></tr>\n",
       "<tr><td><span class=\"c3col_left\">Skin-Melanoma</span></td><td><span class=\"c3col_left\">TtoG</span></td><td><span class=\"c3col_left\">pos-1</span></td><td><span class=\"c3col_right\">0.0030</span></td></tr>\n",
       "<tr><td><span class=\"c3col_left\">Skin-Melanoma</span></td><td><span class=\"c3col_left\">TtoG</span></td><td><span class=\"c3col_left\">pos1</span></td><td><span class=\"c3col_right\">0.0107</span></td></tr>\n",
       "<tr><td><span class=\"c3col_left\">Skin-Melanoma</span></td><td><span class=\"c3col_left\">TtoG</span></td><td><span class=\"c3col_left\">pos2</span></td><td><span class=\"c3col_right\">0.0031</span></td></tr>\n",
       "</tbody>\n",
       "</table>\n",
       "<p>Top 5 and bottom 5 rows from\n",
       "576 rows x 4 columns</p>\n",
       "</div>"
      ],
      "text/plain": [
       "==============================================\n",
       "disease           direction    pos          RE\n",
       "----------------------------------------------\n",
       "Bone-Osteosarc    AtoC         pos-2    0.0029\n",
       "Bone-Osteosarc    AtoC         pos-1    0.0153\n",
       "Bone-Osteosarc    AtoC         pos1     0.0067\n",
       "Bone-Osteosarc    AtoC         pos2     0.0056\n",
       "Bone-Osteosarc    AtoG         pos-2    0.0009\n",
       "Skin-Melanoma     TtoC         pos2     0.0028\n",
       "Skin-Melanoma     TtoG         pos-2    0.0008\n",
       "Skin-Melanoma     TtoG         pos-1    0.0030\n",
       "Skin-Melanoma     TtoG         pos1     0.0107\n",
       "Skin-Melanoma     TtoG         pos2     0.0031\n",
       "----------------------------------------------\n",
       "Top 5 and bottom 5 rows from\n",
       "576 rows x 4 columns"
      ]
     },
     "execution_count": 16,
     "metadata": {},
     "output_type": "execute_result"
    }
   ],
   "source": [
    "table = make_table(header=['disease','direction','pos','RE'], data=results)\n",
    "table"
   ]
  },
  {
   "cell_type": "code",
   "execution_count": 17,
   "metadata": {},
   "outputs": [],
   "source": [
    "table.write('~/Downloads/nbr_re_demo.tsv')"
   ]
  },
  {
   "cell_type": "code",
   "execution_count": null,
   "metadata": {},
   "outputs": [],
   "source": []
  }
 ],
 "metadata": {
  "interpreter": {
   "hash": "6b2f2ca2ca0de2cf665f6b1b3f7b52302b92c83014061969f3194020533072a1"
  },
  "kernelspec": {
   "display_name": "Python 3.8.6 64-bit ('c38-dev': conda)",
   "name": "python3"
  },
  "language_info": {
   "codemirror_mode": {
    "name": "ipython",
    "version": 3
   },
   "file_extension": ".py",
   "mimetype": "text/x-python",
   "name": "python",
   "nbconvert_exporter": "python",
   "pygments_lexer": "ipython3",
   "version": "3.8.6"
  },
  "orig_nbformat": 4
 },
 "nbformat": 4,
 "nbformat_minor": 2
}
