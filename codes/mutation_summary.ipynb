{
    "cells": [
        {
            "cell_type": "code",
            "execution_count": 1,
            "source": [
                "from cogent3 import load_table"
            ],
            "outputs": [],
            "metadata": {}
        },
        {
            "cell_type": "code",
            "execution_count": 2,
            "source": [
                "table = load_table('/Users/phuongle/Documents/repos/PhuongData/loop2_processed/pcawg/summary_wholegenome.tsv.gz')\n",
                "table"
            ],
            "outputs": [
                {
                    "output_type": "execute_result",
                    "data": {
                        "text/plain": [
                            "===================================================================================================================================\n",
                            "Cancer Type         Number of donors    Average number of mutations    Total number of mutations    Standard deviation of mutations\n",
                            "-----------------------------------------------------------------------------------------------------------------------------------\n",
                            "Bone-Osteosarc                    44                      3791.9318                       166845                          3003.4000\n",
                            "Breast-AdenoCa                   113                      6317.3009                       713855                          8610.1000\n",
                            "Breast-DCIS                        3                      2005.0000                         6015                           205.5000\n",
                            "Breast-LobularCa                   7                      3252.5714                        22768                          3126.0000\n",
                            "CNS-Medullo                      146                      1438.3356                       209997                          1053.2000\n",
                            "CNS-PiloAstro                     89                       247.4157                        22020                           220.7000\n",
                            "Kidney-RCC                        74                      7187.6486                       531886                          5774.7000\n",
                            "Liver-HCC                        264                     12581.5189                      3321521                          6731.5000\n",
                            "Lymph-BNHL                        98                     11478.3776                      1124881                         14534.1000\n",
                            "Lymph-CLL                         95                      2381.4947                       226242                           889.6000\n",
                            "Panc-AdenoCA                     239                      7011.6360                      1675781                          8041.5000\n",
                            "Panc-Endocrine                    85                      3041.9294                       258564                          3284.8000\n",
                            "Prost-AdenoCA                    191                      5238.1990                      1000496                          8892.7000\n",
                            "Skin-Melanoma                     70                    111014.0000                      7770980                        145095.0000\n",
                            "-----------------------------------------------------------------------------------------------------------------------------------\n",
                            "\n",
                            "14 rows x 5 columns"
                        ],
                        "text/html": [
                            "\n",
                            "<div class=\"c3table\">\n",
                            "\n",
                            "<style>\n",
                            ".c3table table {margin: 10px 0;}\n",
                            ".c3table tr:last-child {border-bottom: 1px solid #000;} \n",
                            ".c3table tr > th {text-align: left; padding: 0 5px;}\n",
                            ".c3table tr > td {text-align: left; padding: 5px;}\n",
                            ".c3table tr:nth-child(even) {background: rgb(0, 0, 0, 0.5) !important;}\n",
                            ".c3table .ellipsis {background: rgba(0, 0, 0, .01);}\n",
                            ".c3table .index {background: rgba(161, 195, 209, 0.0); margin: 10px; font-weight: 600;}\n",
                            ".c3table .head_cell {background: rgba(161, 195, 209, 0.75); font-weight: bold; text-align: center;}\n",
                            ".c3table caption {color: rgb(250, 250, 250); background: rgba(30, 140, 200, 1); padding: 3px; white-space: nowrap; caption-side: top;}\n",
                            ".c3table .cell_title {font-weight: bold;}\n",
                            ".c3col_left { text-align: left !important; display: block;}\n",
                            ".c3col_right { text-align: right !important; display: block;}\n",
                            ".c3col_center { text-align: center !important; display: block;}\n",
                            "</style>\n",
                            "\n",
                            "<table>\n",
                            "\n",
                            "<thead class=\"head_cell\">\n",
                            "<th>Cancer Type</th><th>Number of donors</th><th>Average number of mutations</th><th>Total number of mutations</th><th>Standard deviation of mutations</th>\n",
                            "</thead>\n",
                            "<tbody>\n",
                            "<tr><td><span class=\"c3col_left\">Bone-Osteosarc</span></td><td><span class=\"c3col_right\">44</span></td><td><span class=\"c3col_right\">3791.9318</span></td><td><span class=\"c3col_right\">166845</span></td><td><span class=\"c3col_right\">3003.4000</span></td></tr>\n",
                            "<tr><td><span class=\"c3col_left\">Breast-AdenoCa</span></td><td><span class=\"c3col_right\">113</span></td><td><span class=\"c3col_right\">6317.3009</span></td><td><span class=\"c3col_right\">713855</span></td><td><span class=\"c3col_right\">8610.1000</span></td></tr>\n",
                            "<tr><td><span class=\"c3col_left\">Breast-DCIS</span></td><td><span class=\"c3col_right\">3</span></td><td><span class=\"c3col_right\">2005.0000</span></td><td><span class=\"c3col_right\">6015</span></td><td><span class=\"c3col_right\">205.5000</span></td></tr>\n",
                            "<tr><td><span class=\"c3col_left\">Breast-LobularCa</span></td><td><span class=\"c3col_right\">7</span></td><td><span class=\"c3col_right\">3252.5714</span></td><td><span class=\"c3col_right\">22768</span></td><td><span class=\"c3col_right\">3126.0000</span></td></tr>\n",
                            "<tr><td><span class=\"c3col_left\">CNS-Medullo</span></td><td><span class=\"c3col_right\">146</span></td><td><span class=\"c3col_right\">1438.3356</span></td><td><span class=\"c3col_right\">209997</span></td><td><span class=\"c3col_right\">1053.2000</span></td></tr>\n",
                            "<tr><td><span class=\"c3col_left\">CNS-PiloAstro</span></td><td><span class=\"c3col_right\">89</span></td><td><span class=\"c3col_right\">247.4157</span></td><td><span class=\"c3col_right\">22020</span></td><td><span class=\"c3col_right\">220.7000</span></td></tr>\n",
                            "<tr><td><span class=\"c3col_left\">Kidney-RCC</span></td><td><span class=\"c3col_right\">74</span></td><td><span class=\"c3col_right\">7187.6486</span></td><td><span class=\"c3col_right\">531886</span></td><td><span class=\"c3col_right\">5774.7000</span></td></tr>\n",
                            "<tr><td><span class=\"c3col_left\">Liver-HCC</span></td><td><span class=\"c3col_right\">264</span></td><td><span class=\"c3col_right\">12581.5189</span></td><td><span class=\"c3col_right\">3321521</span></td><td><span class=\"c3col_right\">6731.5000</span></td></tr>\n",
                            "<tr><td><span class=\"c3col_left\">Lymph-BNHL</span></td><td><span class=\"c3col_right\">98</span></td><td><span class=\"c3col_right\">11478.3776</span></td><td><span class=\"c3col_right\">1124881</span></td><td><span class=\"c3col_right\">14534.1000</span></td></tr>\n",
                            "<tr><td><span class=\"c3col_left\">Lymph-CLL</span></td><td><span class=\"c3col_right\">95</span></td><td><span class=\"c3col_right\">2381.4947</span></td><td><span class=\"c3col_right\">226242</span></td><td><span class=\"c3col_right\">889.6000</span></td></tr>\n",
                            "<tr><td><span class=\"c3col_left\">Panc-AdenoCA</span></td><td><span class=\"c3col_right\">239</span></td><td><span class=\"c3col_right\">7011.6360</span></td><td><span class=\"c3col_right\">1675781</span></td><td><span class=\"c3col_right\">8041.5000</span></td></tr>\n",
                            "<tr><td><span class=\"c3col_left\">Panc-Endocrine</span></td><td><span class=\"c3col_right\">85</span></td><td><span class=\"c3col_right\">3041.9294</span></td><td><span class=\"c3col_right\">258564</span></td><td><span class=\"c3col_right\">3284.8000</span></td></tr>\n",
                            "<tr><td><span class=\"c3col_left\">Prost-AdenoCA</span></td><td><span class=\"c3col_right\">191</span></td><td><span class=\"c3col_right\">5238.1990</span></td><td><span class=\"c3col_right\">1000496</span></td><td><span class=\"c3col_right\">8892.7000</span></td></tr>\n",
                            "<tr><td><span class=\"c3col_left\">Skin-Melanoma</span></td><td><span class=\"c3col_right\">70</span></td><td><span class=\"c3col_right\">111014.0000</span></td><td><span class=\"c3col_right\">7770980</span></td><td><span class=\"c3col_right\">145095.0000</span></td></tr>\n",
                            "</tbody>\n",
                            "</table>\n",
                            "<p>\n",
                            "14 rows x 5 columns</p>\n",
                            "</div>"
                        ]
                    },
                    "metadata": {},
                    "execution_count": 2
                }
            ],
            "metadata": {}
        },
        {
            "cell_type": "code",
            "execution_count": 6,
            "source": [
                "table=table.to_latex()"
            ],
            "outputs": [],
            "metadata": {}
        },
        {
            "cell_type": "code",
            "execution_count": 9,
            "source": [
                "print(table)"
            ],
            "outputs": [
                {
                    "output_type": "stream",
                    "name": "stdout",
                    "text": [
                        "\\begin{table}[htp!]\n",
                        "\\centering\n",
                        "\\begin{tabular}{ r r r r r }\n",
                        "\\hline\n",
                        "\\bf{Cancer Type} & \\bf{Number of donors} & \\bf{Average number of mutations} & \\bf{Total number of mutations} & \\bf{Standard deviation of mutations} \\\\\n",
                        "\\hline\n",
                        "\\hline\n",
                        "  Bone-Osteosarc &               44 &                   3791.9318 &                    166845 &                       3003.4000 \\\\\n",
                        "  Breast-AdenoCa &              113 &                   6317.3009 &                    713855 &                       8610.1000 \\\\\n",
                        "     Breast-DCIS &                3 &                   2005.0000 &                      6015 &                        205.5000 \\\\\n",
                        "Breast-LobularCa &                7 &                   3252.5714 &                     22768 &                       3126.0000 \\\\\n",
                        "     CNS-Medullo &              146 &                   1438.3356 &                    209997 &                       1053.2000 \\\\\n",
                        "   CNS-PiloAstro &               89 &                    247.4157 &                     22020 &                        220.7000 \\\\\n",
                        "      Kidney-RCC &               74 &                   7187.6486 &                    531886 &                       5774.7000 \\\\\n",
                        "       Liver-HCC &              264 &                  12581.5189 &                   3321521 &                       6731.5000 \\\\\n",
                        "      Lymph-BNHL &               98 &                  11478.3776 &                   1124881 &                      14534.1000 \\\\\n",
                        "       Lymph-CLL &               95 &                   2381.4947 &                    226242 &                        889.6000 \\\\\n",
                        "    Panc-AdenoCA &              239 &                   7011.6360 &                   1675781 &                       8041.5000 \\\\\n",
                        "  Panc-Endocrine &               85 &                   3041.9294 &                    258564 &                       3284.8000 \\\\\n",
                        "   Prost-AdenoCA &              191 &                   5238.1990 &                   1000496 &                       8892.7000 \\\\\n",
                        "   Skin-Melanoma &               70 &                 111014.0000 &                   7770980 &                     145095.0000 \\\\\n",
                        "\\hline\n",
                        "\\end{tabular}\n",
                        "\\end{table}\n"
                    ]
                }
            ],
            "metadata": {}
        },
        {
            "cell_type": "code",
            "execution_count": null,
            "source": [],
            "outputs": [],
            "metadata": {}
        }
    ],
    "metadata": {
        "orig_nbformat": 4,
        "language_info": {
            "name": "python",
            "version": "3.8.6",
            "mimetype": "text/x-python",
            "codemirror_mode": {
                "name": "ipython",
                "version": 3
            },
            "pygments_lexer": "ipython3",
            "nbconvert_exporter": "python",
            "file_extension": ".py"
        },
        "kernelspec": {
            "name": "python3",
            "display_name": "Python 3.8.6 64-bit ('c38-dev': conda)"
        },
        "interpreter": {
            "hash": "6b2f2ca2ca0de2cf665f6b1b3f7b52302b92c83014061969f3194020533072a1"
        }
    },
    "nbformat": 4,
    "nbformat_minor": 2
}