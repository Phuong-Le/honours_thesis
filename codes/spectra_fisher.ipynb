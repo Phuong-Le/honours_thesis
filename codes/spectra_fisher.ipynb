{
 "cells": [
  {
   "cell_type": "code",
   "execution_count": 16,
   "metadata": {},
   "outputs": [],
   "source": [
    "from cogent3.util.deserialise import deserialise_object\n",
    "from cogent3.maths.stats.test import fisher\n",
    "from itertools import combinations"
   ]
  },
  {
   "cell_type": "code",
   "execution_count": 17,
   "metadata": {},
   "outputs": [],
   "source": [
    "diseases = deserialise_object('/Users/phuongle/Documents/repos/PhuongData/loop2_processed/loop2.json')['diseases']\n"
   ]
  },
  {
   "cell_type": "code",
   "execution_count": 26,
   "metadata": {},
   "outputs": [],
   "source": [
    "out = {}\n",
    "for pairs in combinations(diseases,2):\n",
    "    disease1, disease2 = sorted(pairs)\n",
    "    path = f'/Users/phuongle/Documents/repos/PhuongAnalysis/results/loop2/sce/pairwise_spectrum/{disease1}_{disease2}/spectra_analysis.json'\n",
    "    result = deserialise_object(path)\n",
    "    pvals = [result[base]['prob'] for base in result]\n",
    "    pval = 0 if 0 in pvals else fisher(pvals)\n",
    "    out[(disease1,disease2)] = pval*66"
   ]
  },
  {
   "cell_type": "code",
   "execution_count": 27,
   "metadata": {},
   "outputs": [
    {
     "data": {
      "text/plain": [
       "{('Bone-Osteosarc', 'Breast-AdenoCa'): 0,\n",
       " ('Bone-Osteosarc', 'CNS-Medullo'): 0,\n",
       " ('Bone-Osteosarc', 'CNS-PiloAstro'): 0,\n",
       " ('Bone-Osteosarc', 'Kidney-RCC'): 0,\n",
       " ('Bone-Osteosarc', 'Liver-HCC'): 0,\n",
       " ('Bone-Osteosarc', 'Lymph-BNHL'): 0,\n",
       " ('Bone-Osteosarc', 'Lymph-CLL'): 0,\n",
       " ('Bone-Osteosarc', 'Panc-AdenoCA'): 0,\n",
       " ('Bone-Osteosarc', 'Panc-Endocrine'): 0,\n",
       " ('Bone-Osteosarc', 'Prost-AdenoCA'): 0,\n",
       " ('Bone-Osteosarc', 'Skin-Melanoma'): 0,\n",
       " ('Breast-AdenoCa', 'CNS-Medullo'): 0,\n",
       " ('Breast-AdenoCa', 'CNS-PiloAstro'): 0,\n",
       " ('Breast-AdenoCa', 'Kidney-RCC'): 0,\n",
       " ('Breast-AdenoCa', 'Liver-HCC'): 0,\n",
       " ('Breast-AdenoCa', 'Lymph-BNHL'): 0,\n",
       " ('Breast-AdenoCa', 'Lymph-CLL'): 0,\n",
       " ('Breast-AdenoCa', 'Panc-AdenoCA'): 0,\n",
       " ('Breast-AdenoCa', 'Panc-Endocrine'): 0,\n",
       " ('Breast-AdenoCa', 'Prost-AdenoCA'): 0,\n",
       " ('Breast-AdenoCa', 'Skin-Melanoma'): 0,\n",
       " ('CNS-Medullo', 'CNS-PiloAstro'): 0.6268804901264494,\n",
       " ('CNS-Medullo', 'Kidney-RCC'): 0,\n",
       " ('CNS-Medullo', 'Liver-HCC'): 0,\n",
       " ('CNS-Medullo', 'Lymph-BNHL'): 0,\n",
       " ('CNS-Medullo', 'Lymph-CLL'): 0,\n",
       " ('CNS-Medullo', 'Panc-AdenoCA'): 0,\n",
       " ('CNS-Medullo', 'Panc-Endocrine'): 0,\n",
       " ('CNS-Medullo', 'Prost-AdenoCA'): 0,\n",
       " ('CNS-Medullo', 'Skin-Melanoma'): 0,\n",
       " ('CNS-PiloAstro', 'Kidney-RCC'): 0,\n",
       " ('CNS-PiloAstro', 'Liver-HCC'): 0,\n",
       " ('CNS-PiloAstro', 'Lymph-BNHL'): 0,\n",
       " ('CNS-PiloAstro', 'Lymph-CLL'): 0,\n",
       " ('CNS-PiloAstro', 'Panc-AdenoCA'): 0,\n",
       " ('CNS-PiloAstro', 'Panc-Endocrine'): 0,\n",
       " ('CNS-PiloAstro', 'Prost-AdenoCA'): 0,\n",
       " ('CNS-PiloAstro', 'Skin-Melanoma'): 0,\n",
       " ('Kidney-RCC', 'Liver-HCC'): 0,\n",
       " ('Kidney-RCC', 'Lymph-BNHL'): 0,\n",
       " ('Kidney-RCC', 'Lymph-CLL'): 0,\n",
       " ('Kidney-RCC', 'Panc-AdenoCA'): 0,\n",
       " ('Kidney-RCC', 'Panc-Endocrine'): 0,\n",
       " ('Kidney-RCC', 'Prost-AdenoCA'): 0,\n",
       " ('Kidney-RCC', 'Skin-Melanoma'): 0,\n",
       " ('Liver-HCC', 'Lymph-BNHL'): 0,\n",
       " ('Liver-HCC', 'Lymph-CLL'): 0,\n",
       " ('Liver-HCC', 'Panc-AdenoCA'): 0,\n",
       " ('Liver-HCC', 'Panc-Endocrine'): 0,\n",
       " ('Liver-HCC', 'Prost-AdenoCA'): 0,\n",
       " ('Liver-HCC', 'Skin-Melanoma'): 0,\n",
       " ('Lymph-BNHL', 'Lymph-CLL'): 4.796347853510397e-20,\n",
       " ('Lymph-BNHL', 'Panc-AdenoCA'): 0,\n",
       " ('Lymph-BNHL', 'Panc-Endocrine'): 0,\n",
       " ('Lymph-BNHL', 'Prost-AdenoCA'): 0,\n",
       " ('Lymph-BNHL', 'Skin-Melanoma'): 0,\n",
       " ('Lymph-CLL', 'Panc-AdenoCA'): 0,\n",
       " ('Lymph-CLL', 'Panc-Endocrine'): 0,\n",
       " ('Lymph-CLL', 'Prost-AdenoCA'): 0,\n",
       " ('Lymph-CLL', 'Skin-Melanoma'): 0,\n",
       " ('Panc-AdenoCA', 'Panc-Endocrine'): 6.822689358269916e-32,\n",
       " ('Panc-AdenoCA', 'Prost-AdenoCA'): 2.382731921131997e-100,\n",
       " ('Panc-AdenoCA', 'Skin-Melanoma'): 0,\n",
       " ('Panc-Endocrine', 'Prost-AdenoCA'): 2.2721199185576936e-76,\n",
       " ('Panc-Endocrine', 'Skin-Melanoma'): 0,\n",
       " ('Prost-AdenoCA', 'Skin-Melanoma'): 0}"
      ]
     },
     "execution_count": 27,
     "metadata": {},
     "output_type": "execute_result"
    }
   ],
   "source": [
    "out"
   ]
  },
  {
   "cell_type": "code",
   "execution_count": null,
   "metadata": {},
   "outputs": [],
   "source": []
  }
 ],
 "metadata": {
  "interpreter": {
   "hash": "6b2f2ca2ca0de2cf665f6b1b3f7b52302b92c83014061969f3194020533072a1"
  },
  "kernelspec": {
   "display_name": "Python 3.8.6 64-bit ('c38-dev': conda)",
   "name": "python3"
  },
  "language_info": {
   "codemirror_mode": {
    "name": "ipython",
    "version": 3
   },
   "file_extension": ".py",
   "mimetype": "text/x-python",
   "name": "python",
   "nbconvert_exporter": "python",
   "pygments_lexer": "ipython3",
   "version": "3.8.6"
  },
  "orig_nbformat": 4
 },
 "nbformat": 4,
 "nbformat_minor": 2
}
