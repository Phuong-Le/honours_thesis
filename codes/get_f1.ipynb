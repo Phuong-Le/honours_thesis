{
    "cells": [
        {
            "cell_type": "code",
            "execution_count": 2,
            "source": [
                "from cogent3 import load_table, make_table\n",
                "from sklearn.metrics import f1_score\n",
                "from pathlib import  Path"
            ],
            "outputs": [],
            "metadata": {}
        },
        {
            "cell_type": "markdown",
            "source": [
                "GLE, smooth vs bins"
            ],
            "metadata": {}
        },
        {
            "cell_type": "code",
            "execution_count": 15,
            "source": [
                "f1 = []\n",
                "for i in range(10):\n",
                "    for representation in ['bins','smooth']:\n",
                "        for distance in ['euclidean','wasserstein']:\n",
                "            path = f'/Users/phuongle/Documents/repos/PhuongAnalysis/results/loop2/sce/knn_loop/gle/{representation}_{distance}/loop{i}/predicted_vs_true.tsv'\n",
                "            table=load_table(path)\n",
                "            predicted, true = table.columns['predicted','true']\n",
                "            f1.append([f'{representation}_{distance}',f1_score(true,predicted,average='weighted')])"
            ],
            "outputs": [],
            "metadata": {}
        },
        {
            "cell_type": "code",
            "execution_count": 16,
            "source": [
                "result = make_table(header=['metric','f1_scores'],data=f1)"
            ],
            "outputs": [],
            "metadata": {}
        },
        {
            "cell_type": "code",
            "execution_count": 17,
            "source": [
                "result.write('/Users/phuongle/Documents/repos/PhuongAnalysis/results/loop2/sce/knn_loop/gle/f1_summary.tsv')"
            ],
            "outputs": [],
            "metadata": {}
        },
        {
            "cell_type": "markdown",
            "source": [
                "Mut asym vs mut sym"
            ],
            "metadata": {}
        },
        {
            "cell_type": "code",
            "execution_count": 3,
            "source": [
                "f1 = []\n",
                "for i in range(10):\n",
                "    for k in [1,3,5]:\n",
                "        for mut in ['mut_all','mut_symmetric','full_symmetric']:\n",
                "            path = f'/Users/phuongle/Documents/repos/PhuongAnalysis/results/loop2/sce/knn_loop/{mut}/{k}mer/loop{i}/predicted_vs_true.tsv'\n",
                "            if k==1 and mut=='full_symmetric':\n",
                "                path=f'/Users/phuongle/Documents/repos/PhuongAnalysis/results/loop2/sce/knn_loop/mut_symmetric/{k}mer/loop{i}/predicted_vs_true.tsv'\n",
                "            table=load_table(path)\n",
                "            predicted, true = table.columns['predicted','true']\n",
                "            mut_type = mut if mut != 'mut_all' else 'asymmetric'\n",
                "            f1.append([mut_type,f'{k}-mer',f1_score(true,predicted,average='weighted')])"
            ],
            "outputs": [],
            "metadata": {}
        },
        {
            "cell_type": "code",
            "execution_count": 4,
            "source": [
                "result = make_table(header=['mut_type','kmer','f1_scores'],data=f1)"
            ],
            "outputs": [],
            "metadata": {}
        },
        {
            "cell_type": "code",
            "execution_count": 6,
            "source": [
                "result.write('/Users/phuongle/Documents/repos/PhuongAnalysis/results/loop2/sce/knn_loop/f1_summary.tsv')"
            ],
            "outputs": [],
            "metadata": {}
        },
        {
            "cell_type": "markdown",
            "source": [
                "5mer submotifs"
            ],
            "metadata": {}
        },
        {
            "cell_type": "code",
            "execution_count": 27,
            "source": [
                "path = Path('/Users/phuongle/Documents/repos/PhuongAnalysis/results/loop2/sce/knn_loop/sce/mut_all/5mer')\n",
                "f1 = []\n",
                "for i in range(10):\n",
                "    for size in [0,1,2]:\n",
                "        if size == 0:\n",
                "            subpath = path / f'loop{i}/predicted_vs_true.tsv'\n",
                "            mut_type = 'whole'\n",
                "        else:\n",
                "            subpath = path / f'combined_size{size}/loop{i}/predicted_vs_true.tsv'\n",
                "            mut_type = f'{size+1}-submotifs'\n",
                "        table=load_table(subpath)\n",
                "        predicted, true = table.columns['predicted','true']\n",
                "        f1.append([mut_type,f1_score(true,predicted,average='weighted')])"
            ],
            "outputs": [],
            "metadata": {}
        },
        {
            "cell_type": "code",
            "execution_count": 28,
            "source": [
                "result = make_table(header=['mut_type','f1_scores'],data=f1)"
            ],
            "outputs": [],
            "metadata": {}
        },
        {
            "cell_type": "code",
            "execution_count": 29,
            "source": [
                "result.write('/Users/phuongle/Documents/repos/PhuongAnalysis/results/loop2/sce/knn_loop/sce/mut_all/5mer/f1_summary.tsv')"
            ],
            "outputs": [],
            "metadata": {}
        },
        {
            "cell_type": "code",
            "execution_count": null,
            "source": [],
            "outputs": [],
            "metadata": {}
        }
    ],
    "metadata": {
        "orig_nbformat": 4,
        "language_info": {
            "name": "python",
            "version": "3.8.6",
            "mimetype": "text/x-python",
            "codemirror_mode": {
                "name": "ipython",
                "version": 3
            },
            "pygments_lexer": "ipython3",
            "nbconvert_exporter": "python",
            "file_extension": ".py"
        },
        "kernelspec": {
            "name": "python3",
            "display_name": "Python 3.8.6 64-bit ('c38-dev': conda)"
        },
        "interpreter": {
            "hash": "6b2f2ca2ca0de2cf665f6b1b3f7b52302b92c83014061969f3194020533072a1"
        }
    },
    "nbformat": 4,
    "nbformat_minor": 2
}