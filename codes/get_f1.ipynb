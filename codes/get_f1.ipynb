{
    "cells": [
        {
            "cell_type": "code",
            "execution_count": 42,
            "metadata": {},
            "outputs": [],
            "source": [
                "from cogent3 import load_table, make_table\n",
                "from sklearn.metrics import f1_score\n",
                "from pathlib import  Path\n",
                "from statistics import mean, stdev, median"
            ]
        },
        {
            "cell_type": "markdown",
            "metadata": {},
            "source": [
                "GLE, smooth vs bins"
            ]
        },
        {
            "cell_type": "code",
            "execution_count": 35,
            "metadata": {},
            "outputs": [],
            "source": [
                "f1 = []\n",
                "for i in range(10):\n",
                "    for representation in ['bins','smooth']:\n",
                "        for distance in ['euclidean','wasserstein']:\n",
                "            path = f'/Users/phuongle/Documents/repos/PhuongAnalysis/results/loop2/gle/knn_loop/{representation}_{distance}/loop{i}/predicted_vs_true.tsv'\n",
                "            table=load_table(path)\n",
                "            predicted, true = table.columns['predicted','true']\n",
                "            f1.append([f'{representation}_{distance}',f1_score(true,predicted,average='weighted')])"
            ]
        },
        {
            "cell_type": "code",
            "execution_count": 45,
            "metadata": {},
            "outputs": [],
            "source": [
                "representation = 'smooth'\n",
                "distance = 'euclidean'\n",
                "f1 = []\n",
                "for i in range(10):\n",
                "    path = f'/Users/phuongle/Documents/repos/PhuongAnalysis/results/loop2/gle/knn_loop/{representation}_{distance}/loop{i}/predicted_vs_true.tsv'\n",
                "    table=load_table(path)\n",
                "    predicted, true = table.columns['predicted','true']\n",
                "    f1.append(median(f1_score(true,predicted,average=None)))"
            ]
        },
        {
            "cell_type": "code",
            "execution_count": 49,
            "metadata": {},
            "outputs": [
                {
                    "data": {
                        "text/plain": [
                            "[0.5505050505050506,\n",
                            " 0.4747126436781609,\n",
                            " 0.4087301587301587,\n",
                            " 0.5041128084606346,\n",
                            " 0.5313725490196078,\n",
                            " 0.5259259259259259,\n",
                            " 0.5523809523809524,\n",
                            " 0.5085470085470085,\n",
                            " 0.6781609195402298,\n",
                            " 0.5657142857142858]"
                        ]
                    },
                    "execution_count": 49,
                    "metadata": {},
                    "output_type": "execute_result"
                }
            ],
            "source": [
                "f1"
            ]
        },
        {
            "cell_type": "code",
            "execution_count": 16,
            "metadata": {},
            "outputs": [],
            "source": [
                "result = make_table(header=['metric','f1_scores'],data=f1)"
            ]
        },
        {
            "cell_type": "code",
            "execution_count": 17,
            "metadata": {},
            "outputs": [],
            "source": [
                "result.write('/Users/phuongle/Documents/repos/PhuongAnalysis/results/loop2/sce/knn_loop/gle/f1_summary.tsv')"
            ]
        },
        {
            "cell_type": "code",
            "execution_count": 6,
            "metadata": {},
            "outputs": [],
            "source": [
                "f1 = []\n",
                "for representation in ['bins','smooth']:\n",
                "    for distance in ['euclidean','wasserstein']:\n",
                "        f = []\n",
                "        for i in range(10):\n",
                "            path = f'/Users/phuongle/Documents/repos/PhuongAnalysis/results/loop2/gle/knn_loop/{representation}_{distance}/loop{i}/predicted_vs_true.tsv'\n",
                "            table=load_table(path)\n",
                "            predicted, true = table.columns['predicted','true']\n",
                "            f.append(f1_score(true,predicted,average='weighted'))\n",
                "        f1.append([representation,distance,mean(f),stdev(f)])"
            ]
        },
        {
            "cell_type": "code",
            "execution_count": 7,
            "metadata": {},
            "outputs": [],
            "source": [
                "result = make_table(header=['representation','distance','mean','stdev'],data=f1)"
            ]
        },
        {
            "cell_type": "code",
            "execution_count": 8,
            "metadata": {},
            "outputs": [],
            "source": [
                "result.write('/Users/phuongle/Documents/repos/PhuongAnalysis/results/loop2/gle/knn_loop/f1_summary_errorbars.tsv')"
            ]
        },
        {
            "cell_type": "markdown",
            "metadata": {},
            "source": [
                "Mut asym vs mut sym"
            ]
        },
        {
            "cell_type": "code",
            "execution_count": 9,
            "metadata": {},
            "outputs": [],
            "source": [
                "f1 = []\n",
                "for i in range(10):\n",
                "    for k in [1,3,5]:\n",
                "        for mut in ['mut_all','mut_symmetric','semi_symmetric','full_symmetric']:\n",
                "            path = f'/Users/phuongle/Documents/repos/PhuongAnalysis/results/loop2/sce/knn_loop/{mut}/{k}mer/loop{i}/predicted_vs_true.tsv'\n",
                "            if k==1 and mut=='full_symmetric':\n",
                "                path=f'/Users/phuongle/Documents/repos/PhuongAnalysis/results/loop2/sce/knn_loop/mut_symmetric/{k}mer/loop{i}/predicted_vs_true.tsv'\n",
                "            table=load_table(path)\n",
                "            predicted, true = table.columns['predicted','true']\n",
                "            mut_type = mut if mut != 'mut_all' else 'asymmetric'\n",
                "            f1.append([mut_type,f'{k}-mer',f1_score(true,predicted,average='weighted')])"
            ]
        },
        {
            "cell_type": "code",
            "execution_count": 4,
            "metadata": {},
            "outputs": [],
            "source": [
                "result = make_table(header=['mut_type','kmer','f1_scores'],data=f1)"
            ]
        },
        {
            "cell_type": "code",
            "execution_count": 5,
            "metadata": {},
            "outputs": [],
            "source": [
                "result.write('/Users/phuongle/Documents/repos/PhuongAnalysis/results/loop2/sce/knn_loop/f1_summary.tsv')"
            ]
        },
        {
            "cell_type": "code",
            "execution_count": 20,
            "metadata": {},
            "outputs": [],
            "source": [
                "f1 = []\n",
                "for k in [1,3,5]:\n",
                "    for mut in ['mut_all','semi_symmetric','full_symmetric']:\n",
                "        f = []\n",
                "        for i in range(10):\n",
                "            path = f'/Users/phuongle/Documents/repos/PhuongAnalysis/results/loop2/sce/knn_loop/{mut}/{k}mer/loop{i}/predicted_vs_true.tsv'\n",
                "            if k==1 and mut=='full_symmetric':\n",
                "                path=f'/Users/phuongle/Documents/repos/PhuongAnalysis/results/loop2/sce/knn_loop/mut_symmetric/{k}mer/loop{i}/predicted_vs_true.tsv'\n",
                "            table=load_table(path)\n",
                "            predicted, true = table.columns['predicted','true']\n",
                "            mut_type = mut if mut != 'mut_all' else 'asymmetric'\n",
                "            f.append(f1_score(true,predicted,average='weighted'))\n",
                "        f1.append([mut_type,f'{k}-mer',mean(f),stdev(f)])"
            ]
        },
        {
            "cell_type": "code",
            "execution_count": 21,
            "metadata": {},
            "outputs": [],
            "source": [
                "result = make_table(header=['mut_type','kmer','mean','stdev'],data=f1)"
            ]
        },
        {
            "cell_type": "code",
            "execution_count": 22,
            "metadata": {},
            "outputs": [],
            "source": [
                "result.write('/Users/phuongle/Documents/repos/PhuongAnalysis/results/loop2/sce/knn_loop/f1_summary_errorbars.tsv')"
            ]
        },
        {
            "cell_type": "markdown",
            "metadata": {},
            "source": [
                "5mer submotifs"
            ]
        },
        {
            "cell_type": "code",
            "execution_count": 27,
            "metadata": {},
            "outputs": [],
            "source": [
                "path = Path('/Users/phuongle/Documents/repos/PhuongAnalysis/results/loop2/sce/knn_loop/sce/mut_all/5mer')\n",
                "f1 = []\n",
                "for i in range(10):\n",
                "    for size in [0,1,2]:\n",
                "        if size == 0:\n",
                "            subpath = path / f'loop{i}/predicted_vs_true.tsv'\n",
                "            mut_type = 'whole'\n",
                "        else:\n",
                "            subpath = path / f'combined_size{size}/loop{i}/predicted_vs_true.tsv'\n",
                "            mut_type = f'{size+1}-submotifs'\n",
                "        table=load_table(subpath)\n",
                "        predicted, true = table.columns['predicted','true']\n",
                "        f1.append([mut_type,f1_score(true,predicted,average='weighted')])"
            ]
        },
        {
            "cell_type": "code",
            "execution_count": 28,
            "metadata": {},
            "outputs": [],
            "source": [
                "result = make_table(header=['mut_type','f1_scores'],data=f1)"
            ]
        },
        {
            "cell_type": "code",
            "execution_count": 29,
            "metadata": {},
            "outputs": [],
            "source": [
                "result.write('/Users/phuongle/Documents/repos/PhuongAnalysis/results/loop2/sce/knn_loop/sce/mut_all/5mer/f1_summary.tsv')"
            ]
        },
        {
            "cell_type": "code",
            "execution_count": 30,
            "metadata": {},
            "outputs": [],
            "source": [
                "path = Path('/Users/phuongle/Documents/repos/PhuongAnalysis/results/loop2/sce/knn_loop/mut_all/5mer')\n",
                "f1 = []\n",
                "for size in [0,1,2]:\n",
                "    f = []\n",
                "    for i in range(10):\n",
                "        if size == 0:\n",
                "            subpath = path / f'loop{i}/predicted_vs_true.tsv'\n",
                "            mut_type = 'whole-5mer'\n",
                "        else:\n",
                "            subpath = path / f'combined_size{size}/loop{i}/predicted_vs_true.tsv'\n",
                "            mut_type = f'{size+1}-submotifs'\n",
                "        table=load_table(subpath)\n",
                "        predicted, true = table.columns['predicted','true']\n",
                "        f.append(f1_score(true,predicted,average='weighted'))\n",
                "    f1.append([mut_type,mean(f),stdev(f)])"
            ]
        },
        {
            "cell_type": "code",
            "execution_count": 31,
            "metadata": {},
            "outputs": [],
            "source": [
                "result = make_table(header=['mut_type','mean','stdev'],data=f1)"
            ]
        },
        {
            "cell_type": "code",
            "execution_count": 32,
            "metadata": {},
            "outputs": [],
            "source": [
                "result.write('/Users/phuongle/Documents/repos/PhuongAnalysis/results/loop2/sce/knn_loop/mut_all/5mer/f1_summary_errorbars.tsv')"
            ]
        },
        {
            "cell_type": "code",
            "execution_count": null,
            "metadata": {},
            "outputs": [],
            "source": []
        }
    ],
    "metadata": {
        "interpreter": {
            "hash": "6b2f2ca2ca0de2cf665f6b1b3f7b52302b92c83014061969f3194020533072a1"
        },
        "kernelspec": {
            "display_name": "Python 3.8.6 64-bit ('c38-dev': conda)",
            "name": "python3"
        },
        "language_info": {
            "codemirror_mode": {
                "name": "ipython",
                "version": 3
            },
            "file_extension": ".py",
            "mimetype": "text/x-python",
            "name": "python",
            "nbconvert_exporter": "python",
            "pygments_lexer": "ipython3",
            "version": "3.8.6"
        },
        "orig_nbformat": 4
    },
    "nbformat": 4,
    "nbformat_minor": 2
}
